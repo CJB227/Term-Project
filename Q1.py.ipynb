{
 "cells": [
  {
   "cell_type": "code",
   "execution_count": 1,
   "id": "6cdd7312",
   "metadata": {},
   "outputs": [
    {
     "name": "stdout",
     "output_type": "stream",
     "text": [
      "Mean Price: 88.69\n",
      "Standard Deviation: 20.46\n"
     ]
    }
   ],
   "source": [
    "import matplotlib.pyplot as plt\n",
    "f = open(\"sample_AAPL.txt\", \"r\")\n",
    "listItems = f.read().splitlines()\n",
    "appleprices=listItems\n",
    "for i in range(0, len(listItems)):\n",
    " appleprices[i] = float(listItems[i])\n",
    "mean_price = sum(appleprices) / len(appleprices)\n",
    "std_dev_price = (sum((x - mean_price) ** 2 for x in appleprices) / len(appleprices)) ** 0.5\n",
    "\n",
    "print(f\"Mean Price: {mean_price:.2f}\")\n",
    "print(f\"Standard Deviation: {std_dev_price:.2f}\")"
   ]
  },
  {
   "cell_type": "code",
   "execution_count": null,
   "id": "6745c73c",
   "metadata": {},
   "outputs": [],
   "source": []
  }
 ],
 "metadata": {
  "kernelspec": {
   "display_name": "Python 3 (ipykernel)",
   "language": "python",
   "name": "python3"
  },
  "language_info": {
   "codemirror_mode": {
    "name": "ipython",
    "version": 3
   },
   "file_extension": ".py",
   "mimetype": "text/x-python",
   "name": "python",
   "nbconvert_exporter": "python",
   "pygments_lexer": "ipython3",
   "version": "3.11.4"
  }
 },
 "nbformat": 4,
 "nbformat_minor": 5
}
