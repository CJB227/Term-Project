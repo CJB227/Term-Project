{
 "cells": [
  {
   "cell_type": "code",
   "execution_count": 1,
   "id": "c49b9272",
   "metadata": {},
   "outputs": [
    {
     "name": "stdout",
     "output_type": "stream",
     "text": [
      "Largest Possible Profit: $80.85\n"
     ]
    }
   ],
   "source": [
    "import matplotlib.pyplot as plt\n",
    "f = open(\"sample_AAPL.txt\", \"r\")\n",
    "listItems = f.read().splitlines()\n",
    "appleprices=listItems\n",
    "for i in range(0, len(listItems)):\n",
    " appleprices[i] = float(listItems[i])\n",
    "mean_price = sum(appleprices) / len(appleprices)\n",
    "std_dev_price = (sum((x - mean_price) ** 2 for x in appleprices) / len(appleprices)) ** 0.5\n",
    "\n",
    "current_max_val = 0\n",
    "max_profit_val = 0\n",
    "\n",
    "for price in reversed(appleprices):\n",
    "    current_max_val = max(current_max_val, price)\n",
    "    potential_profit = current_max_val - price\n",
    "    max_profit_val = max(potential_profit, max_profit_val)\n",
    "\n",
    "print(f\"Largest Possible Profit: ${max_profit_val:.2f}\")"
   ]
  },
  {
   "cell_type": "code",
   "execution_count": null,
   "id": "bc3a7555",
   "metadata": {},
   "outputs": [],
   "source": []
  }
 ],
 "metadata": {
  "kernelspec": {
   "display_name": "Python 3 (ipykernel)",
   "language": "python",
   "name": "python3"
  },
  "language_info": {
   "codemirror_mode": {
    "name": "ipython",
    "version": 3
   },
   "file_extension": ".py",
   "mimetype": "text/x-python",
   "name": "python",
   "nbconvert_exporter": "python",
   "pygments_lexer": "ipython3",
   "version": "3.11.4"
  }
 },
 "nbformat": 4,
 "nbformat_minor": 5
}
